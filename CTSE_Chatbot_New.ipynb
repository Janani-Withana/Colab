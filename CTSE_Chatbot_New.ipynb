{
  "nbformat": 4,
  "nbformat_minor": 0,
  "metadata": {
    "colab": {
      "provenance": [],
      "authorship_tag": "ABX9TyPHjIpbnXcv2NAemsPnarft",
      "include_colab_link": true
    },
    "kernelspec": {
      "name": "python3",
      "display_name": "Python 3"
    },
    "language_info": {
      "name": "python"
    }
  },
  "cells": [
    {
      "cell_type": "markdown",
      "metadata": {
        "id": "view-in-github",
        "colab_type": "text"
      },
      "source": [
        "<a href=\"https://colab.research.google.com/github/Janani-Withana/Colab/blob/main/CTSE_Chatbot_New.ipynb\" target=\"_parent\"><img src=\"https://colab.research.google.com/assets/colab-badge.svg\" alt=\"Open In Colab\"/></a>"
      ]
    },
    {
      "cell_type": "code",
      "source": [
        "# ====================================================\n",
        "# STEP 1: Install Required Libraries\n",
        "# ====================================================\n",
        "!pip install -q langchain langchain-community openai chromadb unstructured pdfminer.six tiktoken faiss-cpu PyPDF2 transformers accelerate"
      ],
      "metadata": {
        "id": "8JR9TSe2aVAe"
      },
      "execution_count": null,
      "outputs": []
    },
    {
      "cell_type": "code",
      "source": [
        "# ====================================================\n",
        "# STEP 2: Import Required Libraries\n",
        "# ====================================================\n",
        "from transformers import pipeline\n",
        "from langchain.llms import HuggingFacePipeline\n",
        "from langchain.chains import RetrievalQA\n",
        "from langchain.document_loaders import PyPDFLoader, UnstructuredFileLoader\n",
        "from langchain.text_splitter import RecursiveCharacterTextSplitter\n",
        "from langchain.embeddings import HuggingFaceEmbeddings\n",
        "from langchain.vectorstores import Chroma\n",
        "from langchain.chains import ConversationalRetrievalChain\n",
        "import os"
      ],
      "metadata": {
        "id": "lJgw4JEvaYL9"
      },
      "execution_count": null,
      "outputs": []
    },
    {
      "cell_type": "code",
      "source": [
        "# ====================================================\n",
        "# STEP 3: Load and Process CTSE PDF with Metadata\n",
        "# ====================================================\n",
        "pdf_path = \"CTSE_Lecture_Notes.pdf\"\n",
        "loader = PyPDFLoader(pdf_path)\n",
        "docs = loader.load()\n",
        "\n",
        "# Add metadata\n",
        "for doc in docs:\n",
        "    doc.metadata[\"source\"] = pdf_path"
      ],
      "metadata": {
        "id": "t6JdTLlhbbu0"
      },
      "execution_count": null,
      "outputs": []
    },
    {
      "cell_type": "code",
      "source": [
        "# ====================================================\n",
        "# STEP 4: Split text into chunks for embedding\n",
        "# ====================================================\n",
        "splitter = RecursiveCharacterTextSplitter(chunk_size=3000, chunk_overlap=200) # Increased chunk_size\n",
        "chunks = splitter.split_documents(docs)\n",
        "\n",
        "print(f\"✅ Loaded {len(docs)} doc(s), split into {len(chunks)} chunks.\")"
      ],
      "metadata": {
        "id": "3R5nk5vJbgK1"
      },
      "execution_count": null,
      "outputs": []
    },
    {
      "cell_type": "code",
      "source": [
        "# ====================================================\n",
        "# STEP 5: Embed and Store in Chroma Vector DB\n",
        "# ====================================================\n",
        "embedding_model = HuggingFaceEmbeddings(model_name=\"sentence-transformers/all-MiniLM-L6-v2\")\n",
        "db = Chroma.from_documents(chunks, embedding_model, persist_directory=\"./ctse_vectorstore\")\n",
        "db.persist()"
      ],
      "metadata": {
        "id": "iztARJPubwxs"
      },
      "execution_count": null,
      "outputs": []
    },
    {
      "cell_type": "code",
      "source": [
        "# ====================================================\n",
        "# STEP 6: RetrievalQA Chain\n",
        "# ====================================================\n",
        "retriever = db.as_retriever(search_type=\"mmr\", search_kwargs={\"k\": 4})\n",
        "\n",
        "# Use GPT-2 via HuggingFace\n",
        "hf_pipe = pipeline(\"text-generation\", model=\"gpt2\", max_new_tokens=200, do_sample=True, temperature=0.7)\n",
        "llm = HuggingFacePipeline(pipeline=hf_pipe)\n",
        "\n",
        "# use basic RetrievalQA\n",
        "qa_chain = RetrievalQA.from_chain_type(\n",
        "    llm=llm,\n",
        "    retriever=retriever,\n",
        "    return_source_documents=True,\n",
        "    chain_type=\"stuff\"\n",
        ")"
      ],
      "metadata": {
        "id": "vahrhVCRb05c"
      },
      "execution_count": null,
      "outputs": []
    },
    {
      "cell_type": "code",
      "execution_count": null,
      "metadata": {
        "id": "_xJRBd7FD_c9"
      },
      "outputs": [],
      "source": [
        "# ====================================================\n",
        "# STEP 7: Interact with the Chatbot\n",
        "# ====================================================\n",
        "print(\"🤖 Ask a question about your CTSE notes:\")\n",
        "query = \"What is the difference between microservices and monoliths?\"\n",
        "\n",
        "result = qa_chain.invoke({\"query\": query}) # Changed 'question' to 'query'\n",
        "\n",
        "print(\"\\n📌 Answer:\\n\", result[\"result\"])\n",
        "print(\"\\n📚 Source documents:\")\n",
        "for i, doc in enumerate(result[\"source_documents\"]):\n",
        "    print(f\"{i+1}. {doc.metadata['source']}\")\n"
      ]
    }
  ]
}